{
 "cells": [
  {
   "cell_type": "code",
   "execution_count": 1,
   "id": "7cb88d40",
   "metadata": {},
   "outputs": [],
   "source": [
    "import re"
   ]
  },
  {
   "cell_type": "code",
   "execution_count": 2,
   "id": "04a08ca2",
   "metadata": {},
   "outputs": [],
   "source": [
    "def parse_bib_file(file_path):\n",
    "    with open(file_path, 'r', encoding='utf-8') as f:\n",
    "        bib_entries = f.read().strip().split('\\n\\n')\n",
    "    \n",
    "    bib_data = []\n",
    "    \n",
    "    for entry in bib_entries:\n",
    "        entry = entry.strip().replace(\"\bibitem\", \"\\bibitem\")  # Fix incorrect characters\n",
    "        entry_lines = entry.split('\\n')\n",
    "        key_match = re.search(r'\\\\bibitem\\s*\\{(.+?)\\}', entry_lines[0].strip())\n",
    "        title_match = re.search(r'\\\\textbf\\{(.+?)\\}', entry)\n",
    "        year_match = re.search(r'(\\d{4})', entry)\n",
    "        \n",
    "        if not key_match:\n",
    "            print(f\"Skipping entry due to missing key: {entry}\")\n",
    "            continue\n",
    "        if not title_match:\n",
    "            print(f\"Skipping entry due to missing title: {entry}\")\n",
    "            continue\n",
    "        if not year_match:\n",
    "            print(f\"Skipping entry due to missing year: {entry}\")\n",
    "            continue\n",
    "        \n",
    "        key = key_match.group(1)\n",
    "        title = title_match.group(1)\n",
    "        year = year_match.group(1)\n",
    "        \n",
    "        # Attempt to extract the first author's last name\n",
    "        try:\n",
    "            first_author = title.split(',')[0].split()[0]\n",
    "        except IndexError:\n",
    "            print(f\"Skipping entry due to unexpected author format: {entry}\")\n",
    "            continue\n",
    "        \n",
    "        alpha_key = f\"{first_author[:3].capitalize()}{year[-2:]}\"  # Create alpha citation label\n",
    "        \n",
    "        bib_data.append((first_author.lower(), alpha_key, key, entry))\n",
    "    \n",
    "    # Sort the data by the first author's last name\n",
    "    bib_data.sort(key=lambda x: x[0])\n",
    "    \n",
    "    return bib_data"
   ]
  },
  {
   "cell_type": "code",
   "execution_count": 3,
   "id": "6212ab95",
   "metadata": {},
   "outputs": [],
   "source": [
    "def format_alpha_bib(bib_data):\n",
    "    formatted_entries = []\n",
    "    \n",
    "    for first_author, alpha_key, key, entry in bib_data:\n",
    "        new_entry = re.sub(r'\\\\bibitem\\s*\\{(.+?)\\}', f'\\\\bibitem[{alpha_key}]{{{key}}}', entry)\n",
    "        formatted_entries.append(new_entry)\n",
    "    \n",
    "    return formatted_entries"
   ]
  },
  {
   "cell_type": "code",
   "execution_count": 4,
   "id": "9e992b3e",
   "metadata": {},
   "outputs": [],
   "source": [
    "def save_to_file(formatted_entries, output_file):\n",
    "    with open(output_file, 'w', encoding='utf-8') as f:\n",
    "        f.write('\\n\\n'.join(formatted_entries))"
   ]
  },
  {
   "cell_type": "code",
   "execution_count": 5,
   "id": "12f6ea97",
   "metadata": {},
   "outputs": [
    {
     "name": "stdout",
     "output_type": "stream",
     "text": [
      "Number of citations processed: 78\n",
      "Formatted citations saved to alpha_citations.txt\n"
     ]
    }
   ],
   "source": [
    "if __name__ == \"__main__\":\n",
    "    input_file = 'citation.txt'  # Replace with input file\n",
    "    output_file = 'alpha_citations.txt'\n",
    "    \n",
    "    bib_data = parse_bib_file(input_file)\n",
    "    print(f\"Number of citations processed: {len(bib_data)}\")  # Print the number of citations\n",
    "    formatted_entries = format_alpha_bib(bib_data)\n",
    "    save_to_file(formatted_entries, output_file)\n",
    "    \n",
    "    print(f\"Formatted citations saved to {output_file}\")"
   ]
  },
  {
   "cell_type": "code",
   "execution_count": null,
   "id": "22306905",
   "metadata": {},
   "outputs": [],
   "source": []
  }
 ],
 "metadata": {
  "kernelspec": {
   "display_name": "Python 3 (ipykernel)",
   "language": "python",
   "name": "python3"
  },
  "language_info": {
   "codemirror_mode": {
    "name": "ipython",
    "version": 3
   },
   "file_extension": ".py",
   "mimetype": "text/x-python",
   "name": "python",
   "nbconvert_exporter": "python",
   "pygments_lexer": "ipython3",
   "version": "3.11.5"
  }
 },
 "nbformat": 4,
 "nbformat_minor": 5
}
